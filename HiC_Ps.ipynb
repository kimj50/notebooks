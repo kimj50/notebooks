{
 "cells": [
  {
   "cell_type": "code",
   "execution_count": 1,
   "metadata": {},
   "outputs": [
    {
     "name": "stderr",
     "output_type": "stream",
     "text": [
      "<ipython-input-1-7469273fca13>:20: MatplotlibDeprecationWarning: \n",
      "The mpl_toolkits.axes_grid module was deprecated in Matplotlib 2.1 and will be removed two minor releases later. Use mpl_toolkits.axes_grid1 and mpl_toolkits.axisartist, which provide the same functionality instead.\n",
      "  from mpl_toolkits.axes_grid import make_axes_locatable\n"
     ]
    }
   ],
   "source": [
    "import numpy as np\n",
    "import matplotlib.pyplot as plt\n",
    "import pandas as pd\n",
    "import seaborn as sns\n",
    "\n",
    "import cooler\n",
    "import bioframe\n",
    "\n",
    "import cooltools\n",
    "import cooltools.expected\n",
    "from cooltools import snipping\n",
    "\n",
    "import cooltools.lib.plotting\n",
    "import multiprocess\n",
    "\n",
    "from matplotlib.colors import LogNorm\n",
    "from matplotlib.ticker import EngFormatter\n",
    "bp_formatter = EngFormatter('b')\n",
    "from scipy import interpolate\n",
    "from mpl_toolkits.axes_grid import make_axes_locatable\n",
    "import pyBigWig\n",
    "import csv\n",
    "\n",
    "from cooltools.lib.numutils import adaptive_coarsegrain, interp_nan\n",
    "from cooltools.insulation import calculate_insulation_score, find_boundaries\n",
    "\n",
    "import cooltools.eigdecomp\n",
    "import cooltools.saddle\n",
    "from scipy.stats import pearsonr\n",
    "from scipy import linalg\n",
    "from scipy.signal import argrelextrema\n",
    "from mpl_toolkits.axes_grid1.inset_locator import inset_axes\n",
    "import itertools\n",
    "from matplotlib.patches import Rectangle\n",
    "import numpy as np\n",
    "import matplotlib.pyplot as plt\n",
    "import pandas as pd\n",
    "import seaborn as sns\n",
    "\n",
    "import cooler\n",
    "import bioframe\n",
    "\n",
    "import cooltools\n",
    "import cooltools.expected\n",
    "from cooltools import snipping\n",
    "\n",
    "import cooltools.lib.plotting\n",
    "# Set up parallelization\n",
    "import multiprocess\n",
    "\n",
    "from matplotlib.colors import LogNorm\n",
    "from matplotlib.ticker import EngFormatter\n",
    "bp_formatter = EngFormatter('b')\n",
    "from scipy import interpolate\n",
    "from mpl_toolkits.axes_grid import make_axes_locatable\n",
    "import pyBigWig\n",
    "import csv\n",
    "\n",
    "from cooltools.lib.numutils import adaptive_coarsegrain, interp_nan\n",
    "from cooltools.insulation import calculate_insulation_score, find_boundaries\n",
    "\n",
    "import cooltools.eigdecomp\n",
    "import cooltools.saddle\n",
    "from scipy.stats import pearsonr\n",
    "from scipy import linalg\n",
    "from scipy.signal import argrelextrema\n",
    "from mpl_toolkits.axes_grid1.inset_locator import inset_axes\n",
    "import itertools\n",
    "from matplotlib.patches import Rectangle\n",
    "import matplotlib.patches as patches\n",
    "import warnings"
   ]
  },
  {
   "cell_type": "code",
   "execution_count": 3,
   "metadata": {},
   "outputs": [],
   "source": [
    "# load clr, uses 5kb, any res can be used\n",
    "clr = cooler.Cooler(\"/scratch/cgsb/ercan/juicerToh5_2021/hicTocool_raw/JK07_JK08_30_5000_raw.cool\")\n"
   ]
  },
  {
   "cell_type": "code",
   "execution_count": 6,
   "metadata": {},
   "outputs": [
    {
     "name": "stdout",
     "output_type": "stream",
     "text": [
      "  chrom  start       end\n",
      "0     I      0  15072423\n",
      "1    II      0  15279345\n",
      "2   III      0  13783700\n",
      "3    IV      0  17493793\n",
      "4     V      0  20924149\n",
      "5     X      0  17718866\n"
     ]
    }
   ],
   "source": [
    "#### chrom file ####\n",
    "ce10=bioframe.read_table('/home/kimj50/ce10.chrom.sizes',schema='bed3')\n",
    "print(ce10)\n",
    "ce10=bioframe.parse_regions(ce10)"
   ]
  },
  {
   "cell_type": "code",
   "execution_count": 2,
   "metadata": {},
   "outputs": [],
   "source": [
    "def scaling_agg(input_clr,input_regions):\n",
    "    cvd = cooltools.expected.diagsum(\n",
    "        clr=input_clr,\n",
    "        regions=input_regions,\n",
    "        transforms={'balanced': lambda p: p['count']*p['weight1']*p['weight2']}\n",
    "    )\n",
    "    lb_cvd, lb_slopes, lb_distbins = cooltools.expected.logbin_expected(cvd)\n",
    "    lb_cvd_agg, lb_slopes_agg = cooltools.expected.combine_binned_expected(\n",
    "        lb_cvd,\n",
    "        binned_exp_slope=lb_slopes\n",
    "    )\n",
    "    lb_cvd_agg['s_bp'] = lb_cvd_agg['diag.avg'] * input_clr.binsize\n",
    "    lb_slopes_agg['s_bp'] = lb_slopes_agg['diag.avg'] * input_clr.binsize\n",
    "    x = np.array(lb_slopes_agg['s_bp'])\n",
    "    y = np.array(lb_slopes_agg['slope'])\n",
    "    loop_size = x[argrelextrema(y, np.greater)]\n",
    "    return(lb_cvd_agg,lb_slopes_agg,loop_size)\n",
    "\n",
    "def format_ticks(ax, x=True, y=True, rotate=True):\n",
    "    if y:\n",
    "        ax.yaxis.set_major_formatter(bp_formatter)\n",
    "    if x:\n",
    "        ax.xaxis.set_major_formatter(bp_formatter)\n",
    "        ax.xaxis.tick_bottom()\n",
    "    if rotate:\n",
    "        ax.tick_params(axis='x',rotation=45)"
   ]
  },
  {
   "cell_type": "code",
   "execution_count": null,
   "metadata": {},
   "outputs": [],
   "source": []
  },
  {
   "cell_type": "code",
   "execution_count": 10,
   "metadata": {},
   "outputs": [],
   "source": [
    "\n",
    "# X and autosomes split\n",
    "agg_AX = []\n",
    "a = scaling_agg(clr,ce10.iloc[0:4].reset_index(drop=True)) # autosomes\n",
    "x = scaling_agg(clr,ce10.iloc[[5]].reset_index(drop=True)) # X chromosome\n",
    "agg_AX.append(a)\n",
    "agg_AX.append(x)\n",
    "\n",
    "\n",
    "# all chromosomes split\n",
    "agg_perchr = []\n",
    "for i in range(ce10.shape[0]): # loop through each chr\n",
    "    x = scaling_agg(clr,ce10.iloc[[i]].reset_index(drop=True))\n",
    "    agg_perchr.append(x)\n",
    "\n"
   ]
  },
  {
   "cell_type": "code",
   "execution_count": 15,
   "metadata": {},
   "outputs": [
    {
     "name": "stdout",
     "output_type": "stream",
     "text": [
      "2\n",
      "3\n",
      "6\n",
      "3\n"
     ]
    }
   ],
   "source": [
    "## data structure of the output\n",
    "\n",
    "print(len(agg_AX)) # layer1: length of 2 - autosome and X-chromosome\n",
    "print(len(agg_AX[0])) # layer2: length of 3 - Ps, logPs, local max of logPs (aka loop size)\n",
    "\n",
    "print(len(agg_perchr)) # layer1: length of 6 - 6 chromosomes in c elegans\n",
    "print(len(agg_perchr[0])) # layer2: length of 3 - Ps, logPs, local max of logPs (aka loop size)\n"
   ]
  },
  {
   "cell_type": "code",
   "execution_count": 25,
   "metadata": {},
   "outputs": [
    {
     "data": {
      "image/png": "[encoded data removed]",
      "text/plain": [
       "<Figure size 576x432 with 4 Axes>"
      ]
     },
     "metadata": {
      "needs_background": "light"
     },
     "output_type": "display_data"
    }
   ],
   "source": [
    "########################## Ps, slopes ############################\n",
    "f, axs = plt.subplots(\n",
    "    figsize=(8,6),\n",
    "    ncols=2,\n",
    "    nrows=2,\n",
    "    sharex=True, sharey='row',\n",
    "    gridspec_kw={'height_ratios':[6,4]}\n",
    ")\n",
    "\n",
    "# global params and labels #\n",
    "Alpha = 0.8\n",
    "lineWidth = 0.8\n",
    "bigFont = 16\n",
    "smallFont = 9\n",
    "slopes_minmax = [-2.5,0]\n",
    "subtitles = ['X vs A','perchr']\n",
    "\n",
    "## first column, plot X v A\n",
    "ax1 = axs[0,0]\n",
    "ax2 = axs[1,0]\n",
    "labels = ['A','X']\n",
    "colors = ['black','red']\n",
    "dat = agg_AX\n",
    "for i in range(len(dat)): # loop through the first layer, ie autosome and X-chromosome\n",
    "    ax1.loglog( # this is Ps\n",
    "        dat[i][0]['s_bp'],\n",
    "        dat[i][0]['balanced.avg'],\n",
    "        label=labels[i],\n",
    "        color=colors[i],linewidth=lineWidth,alpha=Alpha)\n",
    "    ax2.semilogx( # this is log-derivative of Ps\n",
    "        dat[i][1]['s_bp'],\n",
    "        dat[i][1]['slope'],\n",
    "        label=labels[i],\n",
    "        color=colors[i],linewidth=lineWidth,alpha=Alpha)\n",
    "\n",
    "## second column, plot per chr\n",
    "ax1 = axs[0,1]\n",
    "ax2 = axs[1,1]\n",
    "labels = ['I','II','III','IV','V','X']\n",
    "colors = ['black','dimgrey','grey','darkgrey','lightgrey','red']\n",
    "dat = agg_perchr\n",
    "## below is the same as above\n",
    "for i in range(len(dat)): # loop through the first layer, ie autosome and X-chromosome\n",
    "    ax1.loglog( # this is Ps\n",
    "        dat[i][0]['s_bp'],\n",
    "        dat[i][0]['balanced.avg'],\n",
    "        label=labels[i],\n",
    "        color=colors[i],linewidth=lineWidth,alpha=Alpha)\n",
    "    ax2.semilogx( # this is log-derivative of Ps\n",
    "        dat[i][1]['s_bp'],\n",
    "        dat[i][1]['slope'],\n",
    "        label=labels[i],\n",
    "        color=colors[i],linewidth=lineWidth,alpha=Alpha)\n",
    "## above is the same as above\n",
    "\n",
    "\n",
    "#### labeling/asthetics\n",
    "for i in range(2): #loop through each colmn\n",
    "    axs[0,i].set_title(subtitles[i],size=bigFont)\n",
    "    axs[0,i].grid(lw=0.5) # add some grids on graph\n",
    "    axs[1,i].grid(lw=0.5)\n",
    "    format_ticks(axs[1,i],y=False,rotate=False) # format ticks only for x-axis for second row\n",
    "    axs[0,i].tick_params(labelsize=smallFont) # axis tick font size\n",
    "    axs[1,i].tick_params(labelsize=smallFont)\n",
    "    axs[1,i].set_ylim(slopes_minmax) # min max values for slopes\n",
    "    axs[0,i].legend() #add legend to plot\n",
    "\n",
    "# ylabel\n",
    "axs[0,0].set_ylabel('P(s)',size=bigFont)\n",
    "axs[1,0].set_ylabel('slopes',size=bigFont)\n",
    "\n",
    "\n",
    "plt.tight_layout()"
   ]
  },
  {
   "cell_type": "code",
   "execution_count": 26,
   "metadata": {},
   "outputs": [],
   "source": [
    "f.savefig('/scratch/kimj50/test.pdf',dpi=800,bbox_inches='tight')"
   ]
  }
 ],
 "metadata": {
  "kernelspec": {
   "display_name": "cooltools_env",
   "language": "python",
   "name": "cooltools_oct21_env"
  },
  "language_info": {
   "codemirror_mode": {
    "name": "ipython",
    "version": 3
   },
   "file_extension": ".py",
   "mimetype": "text/x-python",
   "name": "python",
   "nbconvert_exporter": "python",
   "pygments_lexer": "ipython3",
   "version": "3.8.5"
  }
 },
 "nbformat": 4,
 "nbformat_minor": 4
}
