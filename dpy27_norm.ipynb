{
 "cells": [
  {
   "cell_type": "code",
   "execution_count": 1,
   "metadata": {},
   "outputs": [],
   "source": [
    "options(scipen = 999)"
   ]
  },
  {
   "cell_type": "code",
   "execution_count": 2,
   "metadata": {},
   "outputs": [],
   "source": [
    "t <-  read.table(\"/scratch/kimj50/Jun_ChIP/pol2/deeptools/multibigwig_DPY27_10.tab\",sep=\"\\t\",header=F)\n",
    "\n"
   ]
  },
  {
   "cell_type": "code",
   "execution_count": 24,
   "metadata": {},
   "outputs": [
    {
     "data": {
      "text/html": [
       "<table class=\"dataframe\">\n",
       "<caption>A data.frame: 6 × 7</caption>\n",
       "<thead>\n",
       "\t<tr><th></th><th scope=col>V1</th><th scope=col>V2</th><th scope=col>V3</th><th scope=col>V4</th><th scope=col>V5</th><th scope=col>V6</th><th scope=col>V7</th></tr>\n",
       "\t<tr><th></th><th scope=col>&lt;chr&gt;</th><th scope=col>&lt;int&gt;</th><th scope=col>&lt;int&gt;</th><th scope=col>&lt;dbl&gt;</th><th scope=col>&lt;dbl&gt;</th><th scope=col>&lt;dbl&gt;</th><th scope=col>&lt;dbl&gt;</th></tr>\n",
       "</thead>\n",
       "<tbody>\n",
       "\t<tr><th scope=row>10028605</th><td>chrX</td><td>17718810</td><td>17718820</td><td>2.90266</td><td>2.03214</td><td>0.573080</td><td>2.68704</td></tr>\n",
       "\t<tr><th scope=row>10028606</th><td>chrX</td><td>17718820</td><td>17718830</td><td>2.65151</td><td>2.03214</td><td>0.513876</td><td>2.47706</td></tr>\n",
       "\t<tr><th scope=row>10028607</th><td>chrX</td><td>17718830</td><td>17718840</td><td>2.40037</td><td>1.71951</td><td>0.375346</td><td>2.35534</td></tr>\n",
       "\t<tr><th scope=row>10028608</th><td>chrX</td><td>17718840</td><td>17718850</td><td>1.89807</td><td>1.49623</td><td>0.454672</td><td>2.25494</td></tr>\n",
       "\t<tr><th scope=row>10028609</th><td>chrX</td><td>17718850</td><td>17718860</td><td>2.33034</td><td>1.47382</td><td>0.316142</td><td>2.09976</td></tr>\n",
       "\t<tr><th scope=row>10028610</th><td>chrX</td><td>17718860</td><td>17718866</td><td>1.82805</td><td>1.25055</td><td>0.395469</td><td>1.85631</td></tr>\n",
       "</tbody>\n",
       "</table>\n"
      ],
      "text/latex": [
       "A data.frame: 6 × 7\n",
       "\\begin{tabular}{r|lllllll}\n",
       "  & V1 & V2 & V3 & V4 & V5 & V6 & V7\\\\\n",
       "  & <chr> & <int> & <int> & <dbl> & <dbl> & <dbl> & <dbl>\\\\\n",
       "\\hline\n",
       "\t10028605 & chrX & 17718810 & 17718820 & 2.90266 & 2.03214 & 0.573080 & 2.68704\\\\\n",
       "\t10028606 & chrX & 17718820 & 17718830 & 2.65151 & 2.03214 & 0.513876 & 2.47706\\\\\n",
       "\t10028607 & chrX & 17718830 & 17718840 & 2.40037 & 1.71951 & 0.375346 & 2.35534\\\\\n",
       "\t10028608 & chrX & 17718840 & 17718850 & 1.89807 & 1.49623 & 0.454672 & 2.25494\\\\\n",
       "\t10028609 & chrX & 17718850 & 17718860 & 2.33034 & 1.47382 & 0.316142 & 2.09976\\\\\n",
       "\t10028610 & chrX & 17718860 & 17718866 & 1.82805 & 1.25055 & 0.395469 & 1.85631\\\\\n",
       "\\end{tabular}\n"
      ],
      "text/markdown": [
       "\n",
       "A data.frame: 6 × 7\n",
       "\n",
       "| <!--/--> | V1 &lt;chr&gt; | V2 &lt;int&gt; | V3 &lt;int&gt; | V4 &lt;dbl&gt; | V5 &lt;dbl&gt; | V6 &lt;dbl&gt; | V7 &lt;dbl&gt; |\n",
       "|---|---|---|---|---|---|---|---|\n",
       "| 10028605 | chrX | 17718810 | 17718820 | 2.90266 | 2.03214 | 0.573080 | 2.68704 |\n",
       "| 10028606 | chrX | 17718820 | 17718830 | 2.65151 | 2.03214 | 0.513876 | 2.47706 |\n",
       "| 10028607 | chrX | 17718830 | 17718840 | 2.40037 | 1.71951 | 0.375346 | 2.35534 |\n",
       "| 10028608 | chrX | 17718840 | 17718850 | 1.89807 | 1.49623 | 0.454672 | 2.25494 |\n",
       "| 10028609 | chrX | 17718850 | 17718860 | 2.33034 | 1.47382 | 0.316142 | 2.09976 |\n",
       "| 10028610 | chrX | 17718860 | 17718866 | 1.82805 | 1.25055 | 0.395469 | 1.85631 |\n",
       "\n"
      ],
      "text/plain": [
       "         V1   V2       V3       V4      V5      V6       V7     \n",
       "10028605 chrX 17718810 17718820 2.90266 2.03214 0.573080 2.68704\n",
       "10028606 chrX 17718820 17718830 2.65151 2.03214 0.513876 2.47706\n",
       "10028607 chrX 17718830 17718840 2.40037 1.71951 0.375346 2.35534\n",
       "10028608 chrX 17718840 17718850 1.89807 1.49623 0.454672 2.25494\n",
       "10028609 chrX 17718850 17718860 2.33034 1.47382 0.316142 2.09976\n",
       "10028610 chrX 17718860 17718866 1.82805 1.25055 0.395469 1.85631"
      ]
     },
     "metadata": {},
     "output_type": "display_data"
    }
   ],
   "source": [
    "tail(t)"
   ]
  },
  {
   "cell_type": "code",
   "execution_count": 16,
   "metadata": {},
   "outputs": [],
   "source": [
    "zscore_X <- function(multibin) {\n",
    "    m <- multibin[complete.cases(multibin),]\n",
    "    m_X <- m[m[,1]=='chrX',-c(1:3)]\n",
    "    avgX <- apply(m_X,2,mean)\n",
    "    sdX <- apply(m_X,2,sd)\n",
    "    m.1 <- data.frame(mapply('-',data.frame(m[,-c(1:3)]),avgX))\n",
    "    m.2 <- data.frame(mapply('/',m.1,sdX))\n",
    "    return(cbind(data.frame(m[,c(1:3)]),m.2))\n",
    "}\n",
    "\n",
    "rescale_AX <- function(multibin) {\n",
    "    m <- multibin[complete.cases(multibin),]\n",
    "    m_X <- m[m[,1]=='chrX',-c(1:3)]\n",
    "    m_A <- m[m[,1]!='chrX',-c(1:3)]\n",
    "    avgX <- apply(m_X,2,mean)\n",
    "    avgA <- apply(m_A,2,mean)\n",
    "    XAdiff <- avgX-avgA\n",
    "    m.1 <- data.frame(mapply('-',data.frame(m[,-c(1:3)]),avgA))\n",
    "    m.2 <- data.frame(mapply('/',m.1,(XAdiff)))\n",
    "    return(cbind(data.frame(m[,c(1:3)]),m.2))\n",
    "}\n",
    "\n",
    "\n",
    "a <- zscore_X(t)\n",
    "b <- rescale_AX(t)"
   ]
  },
  {
   "cell_type": "code",
   "execution_count": 19,
   "metadata": {},
   "outputs": [
    {
     "name": "stdout",
     "output_type": "stream",
     "text": [
      "[1] \"A_mean\"\n",
      "        V4         V5         V6         V7 \n",
      "-0.5522097 -0.7868649 -0.6397330 -0.7179549 \n",
      "[1] \"X_mean\"\n",
      "                       V4                        V5                        V6 \n",
      " 0.0000000000000001785949 -0.0000000000000003219341 -0.0000000000000003544324 \n",
      "                       V7 \n",
      " 0.0000000000000004597590 \n",
      "[1] \"X_sd\"\n",
      "V4 V5 V6 V7 \n",
      " 1  1  1  1 \n",
      "[1] \"A_mean\"\n",
      "                        V4                         V5 \n",
      "-0.00000000000000033127610 -0.00000000000000027052956 \n",
      "                        V6                         V7 \n",
      "-0.00000000000000003435044 -0.00000000000000047008292 \n",
      "[1] \"X_mean\"\n",
      "V4 V5 V6 V7 \n",
      " 1  1  1  1 \n",
      "[1] \"X_sd\"\n",
      "      V4       V5       V6       V7 \n",
      "1.810906 1.270866 1.563152 1.392845 \n"
     ]
    }
   ],
   "source": [
    "checknorm <- function(multibin_norm) {\n",
    "    m <- multibin_norm\n",
    "    m.A <- m[m[,1]!='chrX',-c(1:3)]\n",
    "    m.X <- m[m[,1]=='chrX',-c(1:3)]\n",
    "    print('A_mean')\n",
    "    print(apply(m.A,2,mean))\n",
    "    print('X_mean')\n",
    "    print(apply(m.X,2,mean))\n",
    "    print('X_sd')\n",
    "    print(apply(m.X,2,sd))\n",
    "}\n",
    "\n",
    "checknorm(a)\n",
    "checknorm(b)"
   ]
  },
  {
   "cell_type": "code",
   "execution_count": 20,
   "metadata": {},
   "outputs": [],
   "source": [
    "#AKM189 AKM211 AKM283 AKM340\n",
    "#write.table(a[,c(1:3,4)],'/scratch/kimj50/Jun_ChIP/pol2/norm_bg_bw/DPY27_CA1200_AKM189_inputsubt_zscoreX.bg',sep=\"\\t\",quote=F,row.names=F,col.names=F)\n",
    "#write.table(a[,c(1:3,5)],'/scratch/kimj50/Jun_ChIP/pol2/norm_bg_bw/DPY27_CA1200_AKM211_inputsubt_zscoreX.bg',sep=\"\\t\",quote=F,row.names=F,col.names=F)\n",
    "#write.table(a[,c(1:3,6)],'/scratch/kimj50/Jun_ChIP/pol2/norm_bg_bw/DPY27_pol2deg_AKM283_inputsubt_zscoreX.bg',sep=\"\\t\",quote=F,row.names=F,col.names=F)\n",
    "#write.table(a[,c(1:3,7)],'/scratch/kimj50/Jun_ChIP/pol2/norm_bg_bw/DPY27_pol2deg_AKM340_inputsubt_zscoreX.bg',sep=\"\\t\",quote=F,row.names=F,col.names=F)\n",
    "\n"
   ]
  }
 ],
 "metadata": {
  "kernelspec": {
   "display_name": "R 4.0.4",
   "language": "R",
   "name": "ir"
  },
  "language_info": {
   "codemirror_mode": "r",
   "file_extension": ".r",
   "mimetype": "text/x-r-source",
   "name": "R",
   "pygments_lexer": "r",
   "version": "4.0.4"
  }
 },
 "nbformat": 4,
 "nbformat_minor": 4
}
